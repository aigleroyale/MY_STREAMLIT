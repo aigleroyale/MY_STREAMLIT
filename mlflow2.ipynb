{
  "nbformat": 4,
  "nbformat_minor": 0,
  "metadata": {
    "colab": {
      "provenance": []
    },
    "kernelspec": {
      "name": "python3",
      "display_name": "Python 3"
    },
    "language_info": {
      "name": "python"
    }
  },
  "cells": [
    {
      "cell_type": "code",
      "execution_count": 120,
      "metadata": {
        "id": "hreowVNURPJD"
      },
      "outputs": [],
      "source": [
        "import pandas as pd\n",
        "import numpy as np"
      ]
    },
    {
      "cell_type": "code",
      "source": [
        "xtrain = pd.read_csv(\"https://raw.githubusercontent.com/JosueAfouda/MLflow/main/X_train_J01Z4CN.csv\")\n",
        "xtrain.shape"
      ],
      "metadata": {
        "colab": {
          "base_uri": "https://localhost:8080/"
        },
        "id": "6MB0MCxsSrO5",
        "outputId": "a1548930-118f-48ee-d208-dadcf5d757c2"
      },
      "execution_count": 121,
      "outputs": [
        {
          "output_type": "execute_result",
          "data": {
            "text/plain": [
              "(37368, 27)"
            ]
          },
          "metadata": {},
          "execution_count": 121
        }
      ]
    },
    {
      "cell_type": "code",
      "source": [
        "ytrain = pd.read_csv(\"https://raw.githubusercontent.com/JosueAfouda/MLflow/main/y_train_OXxrJt1.csv\")\n",
        "ytrain.shape"
      ],
      "metadata": {
        "colab": {
          "base_uri": "https://localhost:8080/"
        },
        "id": "sfNshFuIS50a",
        "outputId": "42a53f25-36af-4426-ccbe-acec5aa2c5f0"
      },
      "execution_count": 122,
      "outputs": [
        {
          "output_type": "execute_result",
          "data": {
            "text/plain": [
              "(37368, 2)"
            ]
          },
          "metadata": {},
          "execution_count": 122
        }
      ]
    },
    {
      "cell_type": "code",
      "source": [
        "xtrain.head()"
      ],
      "metadata": {
        "colab": {
          "base_uri": "https://localhost:8080/",
          "height": 317
        },
        "id": "oQNoZ6nDTBQE",
        "outputId": "0f412ea5-1b7f-4cc4-d4d3-cb5a3a64653a"
      },
      "execution_count": 123,
      "outputs": [
        {
          "output_type": "execute_result",
          "data": {
            "text/plain": [
              "   id_annonce property_type  approximate_latitude  approximate_longitude  \\\n",
              "0    35996577   appartement             43.643880               7.117183   \n",
              "1    35811033   appartement             45.695757               4.895610   \n",
              "2    35731841        maison             47.966791              -1.220451   \n",
              "3    35886765        maison             47.289292              -1.878805   \n",
              "4    35781137   appartement             45.718992               4.844234   \n",
              "\n",
              "                city  postal_code   size  floor  land_size  \\\n",
              "0  villeneuve-loubet         6270   63.0    NaN        NaN   \n",
              "1         venissieux        69200   90.0    3.0        NaN   \n",
              "2           moutiers        35130   61.0    NaN      370.0   \n",
              "3          cordemais        44360  142.0    NaN      764.0   \n",
              "4          lyon-7eme        69007   88.0    3.0        NaN   \n",
              "\n",
              "   energy_performance_value  ... nb_parking_places  nb_boxes nb_photos  \\\n",
              "0                       NaN  ...               0.0       0.0       4.0   \n",
              "1                     223.0  ...               0.0       0.0       8.0   \n",
              "2                       NaN  ...               0.0       0.0       4.0   \n",
              "3                     217.0  ...               0.0       1.0       8.0   \n",
              "4                       NaN  ...               0.0       1.0       5.0   \n",
              "\n",
              "  has_a_balcony  nb_terraces  has_a_cellar  has_a_garage  \\\n",
              "0           0.0          1.0           0.0           0.0   \n",
              "1           0.0          0.0           0.0           0.0   \n",
              "2           0.0          0.0           0.0           0.0   \n",
              "3           0.0          1.0           0.0           0.0   \n",
              "4           1.0          0.0           0.0           0.0   \n",
              "\n",
              "   has_air_conditioning  last_floor  upper_floors  \n",
              "0                   0.0         0.0           0.0  \n",
              "1                   0.0         0.0           0.0  \n",
              "2                   0.0         0.0           0.0  \n",
              "3                   0.0         0.0           0.0  \n",
              "4                   0.0         0.0           0.0  \n",
              "\n",
              "[5 rows x 27 columns]"
            ],
            "text/html": [
              "\n",
              "  <div id=\"df-7c606eab-5815-45ba-bcde-63926932b733\">\n",
              "    <div class=\"colab-df-container\">\n",
              "      <div>\n",
              "<style scoped>\n",
              "    .dataframe tbody tr th:only-of-type {\n",
              "        vertical-align: middle;\n",
              "    }\n",
              "\n",
              "    .dataframe tbody tr th {\n",
              "        vertical-align: top;\n",
              "    }\n",
              "\n",
              "    .dataframe thead th {\n",
              "        text-align: right;\n",
              "    }\n",
              "</style>\n",
              "<table border=\"1\" class=\"dataframe\">\n",
              "  <thead>\n",
              "    <tr style=\"text-align: right;\">\n",
              "      <th></th>\n",
              "      <th>id_annonce</th>\n",
              "      <th>property_type</th>\n",
              "      <th>approximate_latitude</th>\n",
              "      <th>approximate_longitude</th>\n",
              "      <th>city</th>\n",
              "      <th>postal_code</th>\n",
              "      <th>size</th>\n",
              "      <th>floor</th>\n",
              "      <th>land_size</th>\n",
              "      <th>energy_performance_value</th>\n",
              "      <th>...</th>\n",
              "      <th>nb_parking_places</th>\n",
              "      <th>nb_boxes</th>\n",
              "      <th>nb_photos</th>\n",
              "      <th>has_a_balcony</th>\n",
              "      <th>nb_terraces</th>\n",
              "      <th>has_a_cellar</th>\n",
              "      <th>has_a_garage</th>\n",
              "      <th>has_air_conditioning</th>\n",
              "      <th>last_floor</th>\n",
              "      <th>upper_floors</th>\n",
              "    </tr>\n",
              "  </thead>\n",
              "  <tbody>\n",
              "    <tr>\n",
              "      <th>0</th>\n",
              "      <td>35996577</td>\n",
              "      <td>appartement</td>\n",
              "      <td>43.643880</td>\n",
              "      <td>7.117183</td>\n",
              "      <td>villeneuve-loubet</td>\n",
              "      <td>6270</td>\n",
              "      <td>63.0</td>\n",
              "      <td>NaN</td>\n",
              "      <td>NaN</td>\n",
              "      <td>NaN</td>\n",
              "      <td>...</td>\n",
              "      <td>0.0</td>\n",
              "      <td>0.0</td>\n",
              "      <td>4.0</td>\n",
              "      <td>0.0</td>\n",
              "      <td>1.0</td>\n",
              "      <td>0.0</td>\n",
              "      <td>0.0</td>\n",
              "      <td>0.0</td>\n",
              "      <td>0.0</td>\n",
              "      <td>0.0</td>\n",
              "    </tr>\n",
              "    <tr>\n",
              "      <th>1</th>\n",
              "      <td>35811033</td>\n",
              "      <td>appartement</td>\n",
              "      <td>45.695757</td>\n",
              "      <td>4.895610</td>\n",
              "      <td>venissieux</td>\n",
              "      <td>69200</td>\n",
              "      <td>90.0</td>\n",
              "      <td>3.0</td>\n",
              "      <td>NaN</td>\n",
              "      <td>223.0</td>\n",
              "      <td>...</td>\n",
              "      <td>0.0</td>\n",
              "      <td>0.0</td>\n",
              "      <td>8.0</td>\n",
              "      <td>0.0</td>\n",
              "      <td>0.0</td>\n",
              "      <td>0.0</td>\n",
              "      <td>0.0</td>\n",
              "      <td>0.0</td>\n",
              "      <td>0.0</td>\n",
              "      <td>0.0</td>\n",
              "    </tr>\n",
              "    <tr>\n",
              "      <th>2</th>\n",
              "      <td>35731841</td>\n",
              "      <td>maison</td>\n",
              "      <td>47.966791</td>\n",
              "      <td>-1.220451</td>\n",
              "      <td>moutiers</td>\n",
              "      <td>35130</td>\n",
              "      <td>61.0</td>\n",
              "      <td>NaN</td>\n",
              "      <td>370.0</td>\n",
              "      <td>NaN</td>\n",
              "      <td>...</td>\n",
              "      <td>0.0</td>\n",
              "      <td>0.0</td>\n",
              "      <td>4.0</td>\n",
              "      <td>0.0</td>\n",
              "      <td>0.0</td>\n",
              "      <td>0.0</td>\n",
              "      <td>0.0</td>\n",
              "      <td>0.0</td>\n",
              "      <td>0.0</td>\n",
              "      <td>0.0</td>\n",
              "    </tr>\n",
              "    <tr>\n",
              "      <th>3</th>\n",
              "      <td>35886765</td>\n",
              "      <td>maison</td>\n",
              "      <td>47.289292</td>\n",
              "      <td>-1.878805</td>\n",
              "      <td>cordemais</td>\n",
              "      <td>44360</td>\n",
              "      <td>142.0</td>\n",
              "      <td>NaN</td>\n",
              "      <td>764.0</td>\n",
              "      <td>217.0</td>\n",
              "      <td>...</td>\n",
              "      <td>0.0</td>\n",
              "      <td>1.0</td>\n",
              "      <td>8.0</td>\n",
              "      <td>0.0</td>\n",
              "      <td>1.0</td>\n",
              "      <td>0.0</td>\n",
              "      <td>0.0</td>\n",
              "      <td>0.0</td>\n",
              "      <td>0.0</td>\n",
              "      <td>0.0</td>\n",
              "    </tr>\n",
              "    <tr>\n",
              "      <th>4</th>\n",
              "      <td>35781137</td>\n",
              "      <td>appartement</td>\n",
              "      <td>45.718992</td>\n",
              "      <td>4.844234</td>\n",
              "      <td>lyon-7eme</td>\n",
              "      <td>69007</td>\n",
              "      <td>88.0</td>\n",
              "      <td>3.0</td>\n",
              "      <td>NaN</td>\n",
              "      <td>NaN</td>\n",
              "      <td>...</td>\n",
              "      <td>0.0</td>\n",
              "      <td>1.0</td>\n",
              "      <td>5.0</td>\n",
              "      <td>1.0</td>\n",
              "      <td>0.0</td>\n",
              "      <td>0.0</td>\n",
              "      <td>0.0</td>\n",
              "      <td>0.0</td>\n",
              "      <td>0.0</td>\n",
              "      <td>0.0</td>\n",
              "    </tr>\n",
              "  </tbody>\n",
              "</table>\n",
              "<p>5 rows × 27 columns</p>\n",
              "</div>\n",
              "      <button class=\"colab-df-convert\" onclick=\"convertToInteractive('df-7c606eab-5815-45ba-bcde-63926932b733')\"\n",
              "              title=\"Convert this dataframe to an interactive table.\"\n",
              "              style=\"display:none;\">\n",
              "        \n",
              "  <svg xmlns=\"http://www.w3.org/2000/svg\" height=\"24px\"viewBox=\"0 0 24 24\"\n",
              "       width=\"24px\">\n",
              "    <path d=\"M0 0h24v24H0V0z\" fill=\"none\"/>\n",
              "    <path d=\"M18.56 5.44l.94 2.06.94-2.06 2.06-.94-2.06-.94-.94-2.06-.94 2.06-2.06.94zm-11 1L8.5 8.5l.94-2.06 2.06-.94-2.06-.94L8.5 2.5l-.94 2.06-2.06.94zm10 10l.94 2.06.94-2.06 2.06-.94-2.06-.94-.94-2.06-.94 2.06-2.06.94z\"/><path d=\"M17.41 7.96l-1.37-1.37c-.4-.4-.92-.59-1.43-.59-.52 0-1.04.2-1.43.59L10.3 9.45l-7.72 7.72c-.78.78-.78 2.05 0 2.83L4 21.41c.39.39.9.59 1.41.59.51 0 1.02-.2 1.41-.59l7.78-7.78 2.81-2.81c.8-.78.8-2.07 0-2.86zM5.41 20L4 18.59l7.72-7.72 1.47 1.35L5.41 20z\"/>\n",
              "  </svg>\n",
              "      </button>\n",
              "      \n",
              "  <style>\n",
              "    .colab-df-container {\n",
              "      display:flex;\n",
              "      flex-wrap:wrap;\n",
              "      gap: 12px;\n",
              "    }\n",
              "\n",
              "    .colab-df-convert {\n",
              "      background-color: #E8F0FE;\n",
              "      border: none;\n",
              "      border-radius: 50%;\n",
              "      cursor: pointer;\n",
              "      display: none;\n",
              "      fill: #1967D2;\n",
              "      height: 32px;\n",
              "      padding: 0 0 0 0;\n",
              "      width: 32px;\n",
              "    }\n",
              "\n",
              "    .colab-df-convert:hover {\n",
              "      background-color: #E2EBFA;\n",
              "      box-shadow: 0px 1px 2px rgba(60, 64, 67, 0.3), 0px 1px 3px 1px rgba(60, 64, 67, 0.15);\n",
              "      fill: #174EA6;\n",
              "    }\n",
              "\n",
              "    [theme=dark] .colab-df-convert {\n",
              "      background-color: #3B4455;\n",
              "      fill: #D2E3FC;\n",
              "    }\n",
              "\n",
              "    [theme=dark] .colab-df-convert:hover {\n",
              "      background-color: #434B5C;\n",
              "      box-shadow: 0px 1px 3px 1px rgba(0, 0, 0, 0.15);\n",
              "      filter: drop-shadow(0px 1px 2px rgba(0, 0, 0, 0.3));\n",
              "      fill: #FFFFFF;\n",
              "    }\n",
              "  </style>\n",
              "\n",
              "      <script>\n",
              "        const buttonEl =\n",
              "          document.querySelector('#df-7c606eab-5815-45ba-bcde-63926932b733 button.colab-df-convert');\n",
              "        buttonEl.style.display =\n",
              "          google.colab.kernel.accessAllowed ? 'block' : 'none';\n",
              "\n",
              "        async function convertToInteractive(key) {\n",
              "          const element = document.querySelector('#df-7c606eab-5815-45ba-bcde-63926932b733');\n",
              "          const dataTable =\n",
              "            await google.colab.kernel.invokeFunction('convertToInteractive',\n",
              "                                                     [key], {});\n",
              "          if (!dataTable) return;\n",
              "\n",
              "          const docLinkHtml = 'Like what you see? Visit the ' +\n",
              "            '<a target=\"_blank\" href=https://colab.research.google.com/notebooks/data_table.ipynb>data table notebook</a>'\n",
              "            + ' to learn more about interactive tables.';\n",
              "          element.innerHTML = '';\n",
              "          dataTable['output_type'] = 'display_data';\n",
              "          await google.colab.output.renderOutput(dataTable, element);\n",
              "          const docLink = document.createElement('div');\n",
              "          docLink.innerHTML = docLinkHtml;\n",
              "          element.appendChild(docLink);\n",
              "        }\n",
              "      </script>\n",
              "    </div>\n",
              "  </div>\n",
              "  "
            ]
          },
          "metadata": {},
          "execution_count": 123
        }
      ]
    },
    {
      "cell_type": "code",
      "source": [
        "ytrain.head()"
      ],
      "metadata": {
        "colab": {
          "base_uri": "https://localhost:8080/",
          "height": 206
        },
        "id": "J_EME0rlTEfe",
        "outputId": "0ee31c75-75fa-4e37-f1ab-df94cced1277"
      },
      "execution_count": 124,
      "outputs": [
        {
          "output_type": "execute_result",
          "data": {
            "text/plain": [
              "   id_annonce     price\n",
              "0    35996577  355000.0\n",
              "1    35811033  190000.0\n",
              "2    35731841   39000.0\n",
              "3    35886765  299000.0\n",
              "4    35781137  478000.0"
            ],
            "text/html": [
              "\n",
              "  <div id=\"df-c4f7813f-c8a6-46d3-8c1c-aa3304903da9\">\n",
              "    <div class=\"colab-df-container\">\n",
              "      <div>\n",
              "<style scoped>\n",
              "    .dataframe tbody tr th:only-of-type {\n",
              "        vertical-align: middle;\n",
              "    }\n",
              "\n",
              "    .dataframe tbody tr th {\n",
              "        vertical-align: top;\n",
              "    }\n",
              "\n",
              "    .dataframe thead th {\n",
              "        text-align: right;\n",
              "    }\n",
              "</style>\n",
              "<table border=\"1\" class=\"dataframe\">\n",
              "  <thead>\n",
              "    <tr style=\"text-align: right;\">\n",
              "      <th></th>\n",
              "      <th>id_annonce</th>\n",
              "      <th>price</th>\n",
              "    </tr>\n",
              "  </thead>\n",
              "  <tbody>\n",
              "    <tr>\n",
              "      <th>0</th>\n",
              "      <td>35996577</td>\n",
              "      <td>355000.0</td>\n",
              "    </tr>\n",
              "    <tr>\n",
              "      <th>1</th>\n",
              "      <td>35811033</td>\n",
              "      <td>190000.0</td>\n",
              "    </tr>\n",
              "    <tr>\n",
              "      <th>2</th>\n",
              "      <td>35731841</td>\n",
              "      <td>39000.0</td>\n",
              "    </tr>\n",
              "    <tr>\n",
              "      <th>3</th>\n",
              "      <td>35886765</td>\n",
              "      <td>299000.0</td>\n",
              "    </tr>\n",
              "    <tr>\n",
              "      <th>4</th>\n",
              "      <td>35781137</td>\n",
              "      <td>478000.0</td>\n",
              "    </tr>\n",
              "  </tbody>\n",
              "</table>\n",
              "</div>\n",
              "      <button class=\"colab-df-convert\" onclick=\"convertToInteractive('df-c4f7813f-c8a6-46d3-8c1c-aa3304903da9')\"\n",
              "              title=\"Convert this dataframe to an interactive table.\"\n",
              "              style=\"display:none;\">\n",
              "        \n",
              "  <svg xmlns=\"http://www.w3.org/2000/svg\" height=\"24px\"viewBox=\"0 0 24 24\"\n",
              "       width=\"24px\">\n",
              "    <path d=\"M0 0h24v24H0V0z\" fill=\"none\"/>\n",
              "    <path d=\"M18.56 5.44l.94 2.06.94-2.06 2.06-.94-2.06-.94-.94-2.06-.94 2.06-2.06.94zm-11 1L8.5 8.5l.94-2.06 2.06-.94-2.06-.94L8.5 2.5l-.94 2.06-2.06.94zm10 10l.94 2.06.94-2.06 2.06-.94-2.06-.94-.94-2.06-.94 2.06-2.06.94z\"/><path d=\"M17.41 7.96l-1.37-1.37c-.4-.4-.92-.59-1.43-.59-.52 0-1.04.2-1.43.59L10.3 9.45l-7.72 7.72c-.78.78-.78 2.05 0 2.83L4 21.41c.39.39.9.59 1.41.59.51 0 1.02-.2 1.41-.59l7.78-7.78 2.81-2.81c.8-.78.8-2.07 0-2.86zM5.41 20L4 18.59l7.72-7.72 1.47 1.35L5.41 20z\"/>\n",
              "  </svg>\n",
              "      </button>\n",
              "      \n",
              "  <style>\n",
              "    .colab-df-container {\n",
              "      display:flex;\n",
              "      flex-wrap:wrap;\n",
              "      gap: 12px;\n",
              "    }\n",
              "\n",
              "    .colab-df-convert {\n",
              "      background-color: #E8F0FE;\n",
              "      border: none;\n",
              "      border-radius: 50%;\n",
              "      cursor: pointer;\n",
              "      display: none;\n",
              "      fill: #1967D2;\n",
              "      height: 32px;\n",
              "      padding: 0 0 0 0;\n",
              "      width: 32px;\n",
              "    }\n",
              "\n",
              "    .colab-df-convert:hover {\n",
              "      background-color: #E2EBFA;\n",
              "      box-shadow: 0px 1px 2px rgba(60, 64, 67, 0.3), 0px 1px 3px 1px rgba(60, 64, 67, 0.15);\n",
              "      fill: #174EA6;\n",
              "    }\n",
              "\n",
              "    [theme=dark] .colab-df-convert {\n",
              "      background-color: #3B4455;\n",
              "      fill: #D2E3FC;\n",
              "    }\n",
              "\n",
              "    [theme=dark] .colab-df-convert:hover {\n",
              "      background-color: #434B5C;\n",
              "      box-shadow: 0px 1px 3px 1px rgba(0, 0, 0, 0.15);\n",
              "      filter: drop-shadow(0px 1px 2px rgba(0, 0, 0, 0.3));\n",
              "      fill: #FFFFFF;\n",
              "    }\n",
              "  </style>\n",
              "\n",
              "      <script>\n",
              "        const buttonEl =\n",
              "          document.querySelector('#df-c4f7813f-c8a6-46d3-8c1c-aa3304903da9 button.colab-df-convert');\n",
              "        buttonEl.style.display =\n",
              "          google.colab.kernel.accessAllowed ? 'block' : 'none';\n",
              "\n",
              "        async function convertToInteractive(key) {\n",
              "          const element = document.querySelector('#df-c4f7813f-c8a6-46d3-8c1c-aa3304903da9');\n",
              "          const dataTable =\n",
              "            await google.colab.kernel.invokeFunction('convertToInteractive',\n",
              "                                                     [key], {});\n",
              "          if (!dataTable) return;\n",
              "\n",
              "          const docLinkHtml = 'Like what you see? Visit the ' +\n",
              "            '<a target=\"_blank\" href=https://colab.research.google.com/notebooks/data_table.ipynb>data table notebook</a>'\n",
              "            + ' to learn more about interactive tables.';\n",
              "          element.innerHTML = '';\n",
              "          dataTable['output_type'] = 'display_data';\n",
              "          await google.colab.output.renderOutput(dataTable, element);\n",
              "          const docLink = document.createElement('div');\n",
              "          docLink.innerHTML = docLinkHtml;\n",
              "          element.appendChild(docLink);\n",
              "        }\n",
              "      </script>\n",
              "    </div>\n",
              "  </div>\n",
              "  "
            ]
          },
          "metadata": {},
          "execution_count": 124
        }
      ]
    },
    {
      "cell_type": "markdown",
      "source": [
        "ANALYSE EXPLORATOIRE"
      ],
      "metadata": {
        "id": "fYm4PP1aTQ-d"
      }
    },
    {
      "cell_type": "code",
      "source": [
        "#!pip install https://github.com/pandas-profiling/pandas-profiling/archive/master.zip"
      ],
      "metadata": {
        "id": "7Qei_fTKTSof"
      },
      "execution_count": 125,
      "outputs": []
    },
    {
      "cell_type": "code",
      "source": [
        "df = xtrain.merge(ytrain, on = \"id_annonce\", how = \"inner\")"
      ],
      "metadata": {
        "id": "ZuSx0pRCUKwt"
      },
      "execution_count": 126,
      "outputs": []
    },
    {
      "cell_type": "code",
      "source": [
        "df.head()"
      ],
      "metadata": {
        "colab": {
          "base_uri": "https://localhost:8080/",
          "height": 317
        },
        "id": "r8lP1ZynUksW",
        "outputId": "93dcb784-38b7-43db-a1f8-35cb65f61315"
      },
      "execution_count": 127,
      "outputs": [
        {
          "output_type": "execute_result",
          "data": {
            "text/plain": [
              "   id_annonce property_type  approximate_latitude  approximate_longitude  \\\n",
              "0    35996577   appartement             43.643880               7.117183   \n",
              "1    35811033   appartement             45.695757               4.895610   \n",
              "2    35731841        maison             47.966791              -1.220451   \n",
              "3    35886765        maison             47.289292              -1.878805   \n",
              "4    35781137   appartement             45.718992               4.844234   \n",
              "\n",
              "                city  postal_code   size  floor  land_size  \\\n",
              "0  villeneuve-loubet         6270   63.0    NaN        NaN   \n",
              "1         venissieux        69200   90.0    3.0        NaN   \n",
              "2           moutiers        35130   61.0    NaN      370.0   \n",
              "3          cordemais        44360  142.0    NaN      764.0   \n",
              "4          lyon-7eme        69007   88.0    3.0        NaN   \n",
              "\n",
              "   energy_performance_value  ... nb_boxes  nb_photos has_a_balcony  \\\n",
              "0                       NaN  ...      0.0        4.0           0.0   \n",
              "1                     223.0  ...      0.0        8.0           0.0   \n",
              "2                       NaN  ...      0.0        4.0           0.0   \n",
              "3                     217.0  ...      1.0        8.0           0.0   \n",
              "4                       NaN  ...      1.0        5.0           1.0   \n",
              "\n",
              "  nb_terraces  has_a_cellar  has_a_garage  has_air_conditioning  last_floor  \\\n",
              "0         1.0           0.0           0.0                   0.0         0.0   \n",
              "1         0.0           0.0           0.0                   0.0         0.0   \n",
              "2         0.0           0.0           0.0                   0.0         0.0   \n",
              "3         1.0           0.0           0.0                   0.0         0.0   \n",
              "4         0.0           0.0           0.0                   0.0         0.0   \n",
              "\n",
              "   upper_floors     price  \n",
              "0           0.0  355000.0  \n",
              "1           0.0  190000.0  \n",
              "2           0.0   39000.0  \n",
              "3           0.0  299000.0  \n",
              "4           0.0  478000.0  \n",
              "\n",
              "[5 rows x 28 columns]"
            ],
            "text/html": [
              "\n",
              "  <div id=\"df-afe8e07e-0cb2-4bc9-aebd-e43faa82ff0d\">\n",
              "    <div class=\"colab-df-container\">\n",
              "      <div>\n",
              "<style scoped>\n",
              "    .dataframe tbody tr th:only-of-type {\n",
              "        vertical-align: middle;\n",
              "    }\n",
              "\n",
              "    .dataframe tbody tr th {\n",
              "        vertical-align: top;\n",
              "    }\n",
              "\n",
              "    .dataframe thead th {\n",
              "        text-align: right;\n",
              "    }\n",
              "</style>\n",
              "<table border=\"1\" class=\"dataframe\">\n",
              "  <thead>\n",
              "    <tr style=\"text-align: right;\">\n",
              "      <th></th>\n",
              "      <th>id_annonce</th>\n",
              "      <th>property_type</th>\n",
              "      <th>approximate_latitude</th>\n",
              "      <th>approximate_longitude</th>\n",
              "      <th>city</th>\n",
              "      <th>postal_code</th>\n",
              "      <th>size</th>\n",
              "      <th>floor</th>\n",
              "      <th>land_size</th>\n",
              "      <th>energy_performance_value</th>\n",
              "      <th>...</th>\n",
              "      <th>nb_boxes</th>\n",
              "      <th>nb_photos</th>\n",
              "      <th>has_a_balcony</th>\n",
              "      <th>nb_terraces</th>\n",
              "      <th>has_a_cellar</th>\n",
              "      <th>has_a_garage</th>\n",
              "      <th>has_air_conditioning</th>\n",
              "      <th>last_floor</th>\n",
              "      <th>upper_floors</th>\n",
              "      <th>price</th>\n",
              "    </tr>\n",
              "  </thead>\n",
              "  <tbody>\n",
              "    <tr>\n",
              "      <th>0</th>\n",
              "      <td>35996577</td>\n",
              "      <td>appartement</td>\n",
              "      <td>43.643880</td>\n",
              "      <td>7.117183</td>\n",
              "      <td>villeneuve-loubet</td>\n",
              "      <td>6270</td>\n",
              "      <td>63.0</td>\n",
              "      <td>NaN</td>\n",
              "      <td>NaN</td>\n",
              "      <td>NaN</td>\n",
              "      <td>...</td>\n",
              "      <td>0.0</td>\n",
              "      <td>4.0</td>\n",
              "      <td>0.0</td>\n",
              "      <td>1.0</td>\n",
              "      <td>0.0</td>\n",
              "      <td>0.0</td>\n",
              "      <td>0.0</td>\n",
              "      <td>0.0</td>\n",
              "      <td>0.0</td>\n",
              "      <td>355000.0</td>\n",
              "    </tr>\n",
              "    <tr>\n",
              "      <th>1</th>\n",
              "      <td>35811033</td>\n",
              "      <td>appartement</td>\n",
              "      <td>45.695757</td>\n",
              "      <td>4.895610</td>\n",
              "      <td>venissieux</td>\n",
              "      <td>69200</td>\n",
              "      <td>90.0</td>\n",
              "      <td>3.0</td>\n",
              "      <td>NaN</td>\n",
              "      <td>223.0</td>\n",
              "      <td>...</td>\n",
              "      <td>0.0</td>\n",
              "      <td>8.0</td>\n",
              "      <td>0.0</td>\n",
              "      <td>0.0</td>\n",
              "      <td>0.0</td>\n",
              "      <td>0.0</td>\n",
              "      <td>0.0</td>\n",
              "      <td>0.0</td>\n",
              "      <td>0.0</td>\n",
              "      <td>190000.0</td>\n",
              "    </tr>\n",
              "    <tr>\n",
              "      <th>2</th>\n",
              "      <td>35731841</td>\n",
              "      <td>maison</td>\n",
              "      <td>47.966791</td>\n",
              "      <td>-1.220451</td>\n",
              "      <td>moutiers</td>\n",
              "      <td>35130</td>\n",
              "      <td>61.0</td>\n",
              "      <td>NaN</td>\n",
              "      <td>370.0</td>\n",
              "      <td>NaN</td>\n",
              "      <td>...</td>\n",
              "      <td>0.0</td>\n",
              "      <td>4.0</td>\n",
              "      <td>0.0</td>\n",
              "      <td>0.0</td>\n",
              "      <td>0.0</td>\n",
              "      <td>0.0</td>\n",
              "      <td>0.0</td>\n",
              "      <td>0.0</td>\n",
              "      <td>0.0</td>\n",
              "      <td>39000.0</td>\n",
              "    </tr>\n",
              "    <tr>\n",
              "      <th>3</th>\n",
              "      <td>35886765</td>\n",
              "      <td>maison</td>\n",
              "      <td>47.289292</td>\n",
              "      <td>-1.878805</td>\n",
              "      <td>cordemais</td>\n",
              "      <td>44360</td>\n",
              "      <td>142.0</td>\n",
              "      <td>NaN</td>\n",
              "      <td>764.0</td>\n",
              "      <td>217.0</td>\n",
              "      <td>...</td>\n",
              "      <td>1.0</td>\n",
              "      <td>8.0</td>\n",
              "      <td>0.0</td>\n",
              "      <td>1.0</td>\n",
              "      <td>0.0</td>\n",
              "      <td>0.0</td>\n",
              "      <td>0.0</td>\n",
              "      <td>0.0</td>\n",
              "      <td>0.0</td>\n",
              "      <td>299000.0</td>\n",
              "    </tr>\n",
              "    <tr>\n",
              "      <th>4</th>\n",
              "      <td>35781137</td>\n",
              "      <td>appartement</td>\n",
              "      <td>45.718992</td>\n",
              "      <td>4.844234</td>\n",
              "      <td>lyon-7eme</td>\n",
              "      <td>69007</td>\n",
              "      <td>88.0</td>\n",
              "      <td>3.0</td>\n",
              "      <td>NaN</td>\n",
              "      <td>NaN</td>\n",
              "      <td>...</td>\n",
              "      <td>1.0</td>\n",
              "      <td>5.0</td>\n",
              "      <td>1.0</td>\n",
              "      <td>0.0</td>\n",
              "      <td>0.0</td>\n",
              "      <td>0.0</td>\n",
              "      <td>0.0</td>\n",
              "      <td>0.0</td>\n",
              "      <td>0.0</td>\n",
              "      <td>478000.0</td>\n",
              "    </tr>\n",
              "  </tbody>\n",
              "</table>\n",
              "<p>5 rows × 28 columns</p>\n",
              "</div>\n",
              "      <button class=\"colab-df-convert\" onclick=\"convertToInteractive('df-afe8e07e-0cb2-4bc9-aebd-e43faa82ff0d')\"\n",
              "              title=\"Convert this dataframe to an interactive table.\"\n",
              "              style=\"display:none;\">\n",
              "        \n",
              "  <svg xmlns=\"http://www.w3.org/2000/svg\" height=\"24px\"viewBox=\"0 0 24 24\"\n",
              "       width=\"24px\">\n",
              "    <path d=\"M0 0h24v24H0V0z\" fill=\"none\"/>\n",
              "    <path d=\"M18.56 5.44l.94 2.06.94-2.06 2.06-.94-2.06-.94-.94-2.06-.94 2.06-2.06.94zm-11 1L8.5 8.5l.94-2.06 2.06-.94-2.06-.94L8.5 2.5l-.94 2.06-2.06.94zm10 10l.94 2.06.94-2.06 2.06-.94-2.06-.94-.94-2.06-.94 2.06-2.06.94z\"/><path d=\"M17.41 7.96l-1.37-1.37c-.4-.4-.92-.59-1.43-.59-.52 0-1.04.2-1.43.59L10.3 9.45l-7.72 7.72c-.78.78-.78 2.05 0 2.83L4 21.41c.39.39.9.59 1.41.59.51 0 1.02-.2 1.41-.59l7.78-7.78 2.81-2.81c.8-.78.8-2.07 0-2.86zM5.41 20L4 18.59l7.72-7.72 1.47 1.35L5.41 20z\"/>\n",
              "  </svg>\n",
              "      </button>\n",
              "      \n",
              "  <style>\n",
              "    .colab-df-container {\n",
              "      display:flex;\n",
              "      flex-wrap:wrap;\n",
              "      gap: 12px;\n",
              "    }\n",
              "\n",
              "    .colab-df-convert {\n",
              "      background-color: #E8F0FE;\n",
              "      border: none;\n",
              "      border-radius: 50%;\n",
              "      cursor: pointer;\n",
              "      display: none;\n",
              "      fill: #1967D2;\n",
              "      height: 32px;\n",
              "      padding: 0 0 0 0;\n",
              "      width: 32px;\n",
              "    }\n",
              "\n",
              "    .colab-df-convert:hover {\n",
              "      background-color: #E2EBFA;\n",
              "      box-shadow: 0px 1px 2px rgba(60, 64, 67, 0.3), 0px 1px 3px 1px rgba(60, 64, 67, 0.15);\n",
              "      fill: #174EA6;\n",
              "    }\n",
              "\n",
              "    [theme=dark] .colab-df-convert {\n",
              "      background-color: #3B4455;\n",
              "      fill: #D2E3FC;\n",
              "    }\n",
              "\n",
              "    [theme=dark] .colab-df-convert:hover {\n",
              "      background-color: #434B5C;\n",
              "      box-shadow: 0px 1px 3px 1px rgba(0, 0, 0, 0.15);\n",
              "      filter: drop-shadow(0px 1px 2px rgba(0, 0, 0, 0.3));\n",
              "      fill: #FFFFFF;\n",
              "    }\n",
              "  </style>\n",
              "\n",
              "      <script>\n",
              "        const buttonEl =\n",
              "          document.querySelector('#df-afe8e07e-0cb2-4bc9-aebd-e43faa82ff0d button.colab-df-convert');\n",
              "        buttonEl.style.display =\n",
              "          google.colab.kernel.accessAllowed ? 'block' : 'none';\n",
              "\n",
              "        async function convertToInteractive(key) {\n",
              "          const element = document.querySelector('#df-afe8e07e-0cb2-4bc9-aebd-e43faa82ff0d');\n",
              "          const dataTable =\n",
              "            await google.colab.kernel.invokeFunction('convertToInteractive',\n",
              "                                                     [key], {});\n",
              "          if (!dataTable) return;\n",
              "\n",
              "          const docLinkHtml = 'Like what you see? Visit the ' +\n",
              "            '<a target=\"_blank\" href=https://colab.research.google.com/notebooks/data_table.ipynb>data table notebook</a>'\n",
              "            + ' to learn more about interactive tables.';\n",
              "          element.innerHTML = '';\n",
              "          dataTable['output_type'] = 'display_data';\n",
              "          await google.colab.output.renderOutput(dataTable, element);\n",
              "          const docLink = document.createElement('div');\n",
              "          docLink.innerHTML = docLinkHtml;\n",
              "          element.appendChild(docLink);\n",
              "        }\n",
              "      </script>\n",
              "    </div>\n",
              "  </div>\n",
              "  "
            ]
          },
          "metadata": {},
          "execution_count": 127
        }
      ]
    },
    {
      "cell_type": "code",
      "source": [
        "df.info()"
      ],
      "metadata": {
        "colab": {
          "base_uri": "https://localhost:8080/"
        },
        "id": "IL9TrttDUmr3",
        "outputId": "5474e4d3-a1fe-4613-bee6-f8a649dd9c8c"
      },
      "execution_count": 128,
      "outputs": [
        {
          "output_type": "stream",
          "name": "stdout",
          "text": [
            "<class 'pandas.core.frame.DataFrame'>\n",
            "Int64Index: 37368 entries, 0 to 37367\n",
            "Data columns (total 28 columns):\n",
            " #   Column                       Non-Null Count  Dtype  \n",
            "---  ------                       --------------  -----  \n",
            " 0   id_annonce                   37368 non-null  int64  \n",
            " 1   property_type                37368 non-null  object \n",
            " 2   approximate_latitude         37368 non-null  float64\n",
            " 3   approximate_longitude        37368 non-null  float64\n",
            " 4   city                         37368 non-null  object \n",
            " 5   postal_code                  37368 non-null  int64  \n",
            " 6   size                         36856 non-null  float64\n",
            " 7   floor                        9743 non-null   float64\n",
            " 8   land_size                    15581 non-null  float64\n",
            " 9   energy_performance_value     19068 non-null  float64\n",
            " 10  energy_performance_category  19068 non-null  object \n",
            " 11  ghg_value                    18530 non-null  float64\n",
            " 12  ghg_category                 18530 non-null  object \n",
            " 13  exposition                   9094 non-null   object \n",
            " 14  nb_rooms                     35802 non-null  float64\n",
            " 15  nb_bedrooms                  34635 non-null  float64\n",
            " 16  nb_bathrooms                 24095 non-null  float64\n",
            " 17  nb_parking_places            37368 non-null  float64\n",
            " 18  nb_boxes                     37368 non-null  float64\n",
            " 19  nb_photos                    37368 non-null  float64\n",
            " 20  has_a_balcony                37368 non-null  float64\n",
            " 21  nb_terraces                  37368 non-null  float64\n",
            " 22  has_a_cellar                 37368 non-null  float64\n",
            " 23  has_a_garage                 37368 non-null  float64\n",
            " 24  has_air_conditioning         37368 non-null  float64\n",
            " 25  last_floor                   37368 non-null  float64\n",
            " 26  upper_floors                 37368 non-null  float64\n",
            " 27  price                        37368 non-null  float64\n",
            "dtypes: float64(21), int64(2), object(5)\n",
            "memory usage: 8.3+ MB\n"
          ]
        }
      ]
    },
    {
      "cell_type": "code",
      "source": [
        "from pandas_profiling import ProfileReport"
      ],
      "metadata": {
        "id": "Q_xi0O_HVSQ9"
      },
      "execution_count": 129,
      "outputs": []
    },
    {
      "cell_type": "code",
      "source": [
        "profile = ProfileReport(\n",
        "    df,\n",
        "    title = \"Analyse exploratoire des données\",\n",
        "    html = {'style' : {'full_width':True}}\n",
        ")\n",
        "\n",
        "#profile.to_file(output_file = \"data-profile.html\")"
      ],
      "metadata": {
        "id": "iL457499VipW"
      },
      "execution_count": 130,
      "outputs": []
    },
    {
      "cell_type": "markdown",
      "source": [
        "Pipeline de machine learning"
      ],
      "metadata": {
        "id": "ZU7fNy_o4xj_"
      }
    },
    {
      "cell_type": "code",
      "source": [
        "nums_vars = xtrain.drop('id_annonce', axis = 1).select_dtypes(exclude = [\"object\"]).columns\n",
        "nums_vars"
      ],
      "metadata": {
        "colab": {
          "base_uri": "https://localhost:8080/"
        },
        "id": "zdoyvJZE4zq0",
        "outputId": "81641a85-ace4-4665-f147-3730fa978e50"
      },
      "execution_count": 131,
      "outputs": [
        {
          "output_type": "execute_result",
          "data": {
            "text/plain": [
              "Index(['approximate_latitude', 'approximate_longitude', 'postal_code', 'size',\n",
              "       'floor', 'land_size', 'energy_performance_value', 'ghg_value',\n",
              "       'nb_rooms', 'nb_bedrooms', 'nb_bathrooms', 'nb_parking_places',\n",
              "       'nb_boxes', 'nb_photos', 'has_a_balcony', 'nb_terraces', 'has_a_cellar',\n",
              "       'has_a_garage', 'has_air_conditioning', 'last_floor', 'upper_floors'],\n",
              "      dtype='object')"
            ]
          },
          "metadata": {},
          "execution_count": 131
        }
      ]
    },
    {
      "cell_type": "code",
      "source": [
        "cat_vars = xtrain.drop('id_annonce', axis = 1).drop(nums_vars, axis = 1).columns.to_list()\n",
        "cat_vars"
      ],
      "metadata": {
        "colab": {
          "base_uri": "https://localhost:8080/"
        },
        "id": "o28cr5ax6EMU",
        "outputId": "87c7adc2-daf2-41ac-a8d1-78b36f54ee86"
      },
      "execution_count": 132,
      "outputs": [
        {
          "output_type": "execute_result",
          "data": {
            "text/plain": [
              "['property_type',\n",
              " 'city',\n",
              " 'energy_performance_category',\n",
              " 'ghg_category',\n",
              " 'exposition']"
            ]
          },
          "metadata": {},
          "execution_count": 132
        }
      ]
    },
    {
      "cell_type": "code",
      "source": [
        "df.isnull().sum()"
      ],
      "metadata": {
        "colab": {
          "base_uri": "https://localhost:8080/"
        },
        "id": "LEIC-JBn7s7r",
        "outputId": "206b0e8a-0acb-4e7f-c59c-35261a822545"
      },
      "execution_count": 133,
      "outputs": [
        {
          "output_type": "execute_result",
          "data": {
            "text/plain": [
              "id_annonce                         0\n",
              "property_type                      0\n",
              "approximate_latitude               0\n",
              "approximate_longitude              0\n",
              "city                               0\n",
              "postal_code                        0\n",
              "size                             512\n",
              "floor                          27625\n",
              "land_size                      21787\n",
              "energy_performance_value       18300\n",
              "energy_performance_category    18300\n",
              "ghg_value                      18838\n",
              "ghg_category                   18838\n",
              "exposition                     28274\n",
              "nb_rooms                        1566\n",
              "nb_bedrooms                     2733\n",
              "nb_bathrooms                   13273\n",
              "nb_parking_places                  0\n",
              "nb_boxes                           0\n",
              "nb_photos                          0\n",
              "has_a_balcony                      0\n",
              "nb_terraces                        0\n",
              "has_a_cellar                       0\n",
              "has_a_garage                       0\n",
              "has_air_conditioning               0\n",
              "last_floor                         0\n",
              "upper_floors                       0\n",
              "price                              0\n",
              "dtype: int64"
            ]
          },
          "metadata": {},
          "execution_count": 133
        }
      ]
    },
    {
      "cell_type": "code",
      "source": [
        "from sklearn.pipeline import make_pipeline, Pipeline\n",
        "from sklearn.preprocessing import StandardScaler, MinMaxScaler, RobustScaler, OneHotEncoder\n",
        "from sklearn.impute import SimpleImputer"
      ],
      "metadata": {
        "id": "fhqatVGe7-4w"
      },
      "execution_count": 134,
      "outputs": []
    },
    {
      "cell_type": "code",
      "source": [
        "numeric_transformer = make_pipeline(\n",
        "    (SimpleImputer(strategy='median')),\n",
        "    StandardScaler()\n",
        ")\n",
        "numeric_transformer"
      ],
      "metadata": {
        "colab": {
          "base_uri": "https://localhost:8080/"
        },
        "id": "peFO0XoE8fGb",
        "outputId": "6aeef85a-20d7-4501-a707-65a9d27d1e5b"
      },
      "execution_count": 135,
      "outputs": [
        {
          "output_type": "execute_result",
          "data": {
            "text/plain": [
              "Pipeline(steps=[('simpleimputer', SimpleImputer(strategy='median')),\n",
              "                ('standardscaler', StandardScaler())])"
            ]
          },
          "metadata": {},
          "execution_count": 135
        }
      ]
    },
    {
      "cell_type": "code",
      "source": [
        "categorical_transformer = make_pipeline(\n",
        "    (SimpleImputer(strategy=\"constant\", fill_value=\"Unknow\")),\n",
        "    (OneHotEncoder(handle_unknown=\"ignore\"))\n",
        ")\n",
        "categorical_transformer"
      ],
      "metadata": {
        "colab": {
          "base_uri": "https://localhost:8080/"
        },
        "id": "4diN8CM-8-Y1",
        "outputId": "0b3d963a-1580-47d7-f2d2-f38ca0c1e13e"
      },
      "execution_count": 136,
      "outputs": [
        {
          "output_type": "execute_result",
          "data": {
            "text/plain": [
              "Pipeline(steps=[('simpleimputer',\n",
              "                 SimpleImputer(fill_value='Unknow', strategy='constant')),\n",
              "                ('onehotencoder', OneHotEncoder(handle_unknown='ignore'))])"
            ]
          },
          "metadata": {},
          "execution_count": 136
        }
      ]
    },
    {
      "cell_type": "code",
      "source": [
        "from sklearn.compose import ColumnTransformer\n"
      ],
      "metadata": {
        "id": "mqJMNtyX991f"
      },
      "execution_count": 137,
      "outputs": []
    },
    {
      "cell_type": "code",
      "source": [
        "from sklearn.ensemble import RandomForestRegressor, ExtraTreesRegressor\n",
        "from sklearn.svm import SVR"
      ],
      "metadata": {
        "id": "mpdqVYMd-gvB"
      },
      "execution_count": 138,
      "outputs": []
    },
    {
      "cell_type": "code",
      "source": [
        "seed = 1234"
      ],
      "metadata": {
        "id": "Z4mqfkNQ_V2B"
      },
      "execution_count": 139,
      "outputs": []
    },
    {
      "cell_type": "code",
      "source": [
        "def build_pipeline(algo_ml, \n",
        "                  impute_num = SimpleImputer(strategy=\"median\"),\n",
        "                  impute_vars = SimpleImputer(strategy=\"constant\", fill_value=\"Unknow\"),\n",
        "                  scaler = StandardScaler()):\n",
        "  \n",
        "  # Pipeline de transformation des variables numériques\n",
        "\n",
        "  numeric_transformer = make_pipeline(\n",
        "      (impute_num),\n",
        "      (scaler)\n",
        "  )\n",
        "\n",
        "  categorical_transformer = make_pipeline(\n",
        "    (impute_vars),\n",
        "    (OneHotEncoder(handle_unknown=\"ignore\"))\n",
        "  )\n",
        "\n",
        "  preprocessor = ColumnTransformer(\n",
        "    transformers = [\n",
        "        ('num', numeric_transformer, nums_vars),\n",
        "        ('cat', categorical_transformer, cat_vars)\n",
        "    ]\n",
        "    )\n",
        "  \n",
        "  model = Pipeline(steps=[('preprocessing', preprocessor),\n",
        "                          ('regressor', algo_ml)])\n",
        "  \n",
        "  return model\n"
      ],
      "metadata": {
        "id": "vv3k3485_feY"
      },
      "execution_count": 140,
      "outputs": []
    },
    {
      "cell_type": "code",
      "source": [
        "buid_pipeline(algo_ml=RandomForestRegressor(random_state=seed))"
      ],
      "metadata": {
        "colab": {
          "base_uri": "https://localhost:8080/"
        },
        "id": "4uVA70nJD4n6",
        "outputId": "af3f7318-1972-46ef-9810-e2ac78a57bb3"
      },
      "execution_count": 141,
      "outputs": [
        {
          "output_type": "execute_result",
          "data": {
            "text/plain": [
              "Pipeline(steps=[('preprocessing',\n",
              "                 ColumnTransformer(transformers=[('num',\n",
              "                                                  Pipeline(steps=[('simpleimputer',\n",
              "                                                                   SimpleImputer(strategy='median')),\n",
              "                                                                  ('standardscaler',\n",
              "                                                                   StandardScaler())]),\n",
              "                                                  Index(['approximate_latitude', 'approximate_longitude', 'postal_code', 'size',\n",
              "       'floor', 'land_size', 'energy_performance_value', 'ghg_value',\n",
              "       'nb_rooms', 'nb_bedrooms', 'nb_bathrooms'...\n",
              "       'has_a_garage', 'has_air_conditioning', 'last_floor', 'upper_floors'],\n",
              "      dtype='object')),\n",
              "                                                 ('cat',\n",
              "                                                  Pipeline(steps=[('simpleimputer',\n",
              "                                                                   SimpleImputer(fill_value='Unknow',\n",
              "                                                                                 strategy='constant')),\n",
              "                                                                  ('onehotencoder',\n",
              "                                                                   OneHotEncoder(handle_unknown='ignore'))]),\n",
              "                                                  ['property_type', 'city',\n",
              "                                                   'energy_performance_category',\n",
              "                                                   'ghg_category',\n",
              "                                                   'exposition'])])),\n",
              "                ('regressor', RandomForestRegressor(random_state=1234))])"
            ]
          },
          "metadata": {},
          "execution_count": 141
        }
      ]
    },
    {
      "cell_type": "code",
      "source": [
        "import mlflow"
      ],
      "metadata": {
        "id": "r2HXCd_UEY9R"
      },
      "execution_count": 142,
      "outputs": []
    },
    {
      "cell_type": "code",
      "source": [
        "mlflow.set_experiment(\"Baseline-Models\")"
      ],
      "metadata": {
        "colab": {
          "base_uri": "https://localhost:8080/"
        },
        "id": "-qVFRUbmEeNw",
        "outputId": "5b8507ab-6937-4c12-b6a8-63fc9673ddb3"
      },
      "execution_count": 143,
      "outputs": [
        {
          "output_type": "execute_result",
          "data": {
            "text/plain": [
              "<Experiment: artifact_location='file:///content/mlruns/442745547587742590', creation_time=1669904744192, experiment_id='442745547587742590', last_update_time=1669904744192, lifecycle_stage='active', name='Baseline-Models', tags={}>"
            ]
          },
          "metadata": {},
          "execution_count": 143
        }
      ]
    },
    {
      "cell_type": "code",
      "source": [
        "!ls"
      ],
      "metadata": {
        "colab": {
          "base_uri": "https://localhost:8080/"
        },
        "id": "UC2AlslaFDwL",
        "outputId": "a0702a21-8a68-4112-c88b-bc0c9b5bf731"
      },
      "execution_count": 144,
      "outputs": [
        {
          "output_type": "stream",
          "name": "stdout",
          "text": [
            "data-profile.html  mlruns  sample_data\n"
          ]
        }
      ]
    },
    {
      "cell_type": "code",
      "source": [
        "from sklearn.model_selection import train_test_split"
      ],
      "metadata": {
        "id": "XLmVuWfyFG5m"
      },
      "execution_count": 145,
      "outputs": []
    },
    {
      "cell_type": "code",
      "source": [
        " seed = 4321\n",
        "\n",
        "X_train, X_test, y_train, y_test = train_test_split(\n",
        "     xtrain.drop('id_annonce', axis = 1),\n",
        "     ytrain['price'],\n",
        "     test_size = 0.4,\n",
        "     random_state = seed\n",
        " )\n",
        "\n",
        "X_val, X_test, y_val, y_test = train_test_split(\n",
        "      X_test,\n",
        "      y_test,\n",
        "      test_size = 0.5,\n",
        "      random_state = seed\n",
        " )\n",
        "\n",
        "print(X_train.shape)"
      ],
      "metadata": {
        "colab": {
          "base_uri": "https://localhost:8080/"
        },
        "id": "4owzxHsHFR66",
        "outputId": "5f03cc7e-f438-406c-aa89-6c7fdb8c1fcb"
      },
      "execution_count": 146,
      "outputs": [
        {
          "output_type": "stream",
          "name": "stdout",
          "text": [
            "(22420, 26)\n"
          ]
        }
      ]
    },
    {
      "cell_type": "code",
      "source": [
        "from sklearn.metrics import mean_absolute_percentage_error, mean_squared_error\n",
        "import numpy as np\n",
        "\n",
        "\n",
        "def eval_metrics (actual, pred):\n",
        "  mape = mean_absolute_percentage_error(actual, pred)*100\n",
        "  rmse = np.sqrt(mean_squared_error(actual, pred))\n",
        "\n",
        "  return (mape, rmse)"
      ],
      "metadata": {
        "id": "s75ePH3UHlTg"
      },
      "execution_count": 147,
      "outputs": []
    },
    {
      "cell_type": "code",
      "source": [
        " mlflow.sklearn.autolog()\n",
        "\n",
        " with mlflow.start_run(run_name='random_forest_default'):\n",
        "\n",
        "   model = build_pipeline(algo_ml = RandomForestRegressor(random_state=seed, n_jobs=-1))\n",
        " \n",
        "   model.fit(X_train, y_train)\n",
        "\n",
        "   train_preds = model.predict(X_train)\n",
        "\n",
        "   train_mape, train_rmse = eval_metrics(y_train, train_preds)\n",
        "\n",
        "   mlflow.log_metric(\"train_mape_experience\", train_mape)\n",
        "\n",
        "   mlflow.log_metric(\"train_rmse_experience\", train_rmse)\n",
        "\n",
        "   mlflow.log_metric(\"val_mape_experience\", val_mape)\n",
        "\n",
        "   mlflow.log_metric(\"val_rmse_experience\", val_rmse)\n",
        "\n",
        "   mlflow.sklearn.log_model(model, \"rf_run1\")\n",
        "\n",
        "   print(\"MAPETD\", train_mape)\n",
        "   print(\"MAPEVD\", val_mape)\n",
        "   print(\"RMSETD\", train_rmse)\n",
        "   print(\"RMSEVD\", val_rmse)\n",
        "\n",
        "   print(\"Model run ID : \", mlflow.active_run().info.run_uuid)\n",
        "\n",
        "mlflow.end_run()"
      ],
      "metadata": {
        "id": "Ok4KOtMWLtI-"
      },
      "execution_count": null,
      "outputs": []
    },
    {
      "cell_type": "code",
      "source": [
        "pip install pyngrok"
      ],
      "metadata": {
        "colab": {
          "base_uri": "https://localhost:8080/"
        },
        "id": "QiwJSRZgcjPi",
        "outputId": "b19d3769-9182-470d-9759-7a75e20dcff8"
      },
      "execution_count": 151,
      "outputs": [
        {
          "output_type": "stream",
          "name": "stdout",
          "text": [
            "Looking in indexes: https://pypi.org/simple, https://us-python.pkg.dev/colab-wheels/public/simple/\n",
            "Collecting pyngrok\n",
            "  Downloading pyngrok-5.2.1.tar.gz (761 kB)\n",
            "\u001b[K     |████████████████████████████████| 761 kB 8.1 MB/s \n",
            "\u001b[?25hRequirement already satisfied: PyYAML in /usr/local/lib/python3.8/dist-packages (from pyngrok) (6.0)\n",
            "Building wheels for collected packages: pyngrok\n",
            "  Building wheel for pyngrok (setup.py) ... \u001b[?25l\u001b[?25hdone\n",
            "  Created wheel for pyngrok: filename=pyngrok-5.2.1-py3-none-any.whl size=19792 sha256=b798eb9402fb7b2dd54a01b335a984fdae7c73b10cff567ddd475bc2701c45d2\n",
            "  Stored in directory: /root/.cache/pip/wheels/5d/f2/70/526da675d32f17577ec47ac4c663084efe39d47c826b6c3bb1\n",
            "Successfully built pyngrok\n",
            "Installing collected packages: pyngrok\n",
            "Successfully installed pyngrok-5.2.1\n"
          ]
        }
      ]
    },
    {
      "cell_type": "code",
      "source": [
        "from pyngrok import ngrok\n",
        "\n",
        "# Terminate open tunnels if exist\n",
        "ngrok.kill()\n",
        "\n",
        "# Setting the authtoken (optional)\n",
        "# Get your authtoken from https://dashboard.ngrok.com/auth\n",
        "NGROK_AUTH_TOKEN = \"2IHRohY1OxWDPw9mwc5GX33jOVd_5AFHjCaNaFY3AvyKNA15V\"\n",
        "ngrok.set_auth_token(NGROK_AUTH_TOKEN)\n",
        "\n",
        "# Open an HTTPs tunnel on port 5000 for http://localhost:5000\n",
        "ngrok_tunnel = ngrok.connect(addr=\"5000\", proto=\"http\", bind_tls=True)\n",
        "print(\"MLflow Tracking UI:\", ngrok_tunnel.public_url)"
      ],
      "metadata": {
        "colab": {
          "base_uri": "https://localhost:8080/"
        },
        "id": "8M4jM0qLbkS2",
        "outputId": "0a58d3ef-5d1e-40de-f981-c2f72050a65a"
      },
      "execution_count": 152,
      "outputs": [
        {
          "output_type": "stream",
          "name": "stdout",
          "text": [
            "MLflow Tracking UI: https://1965-35-203-178-135.ngrok.io\n"
          ]
        }
      ]
    },
    {
      "cell_type": "code",
      "source": [
        "!mlflow ui"
      ],
      "metadata": {
        "colab": {
          "base_uri": "https://localhost:8080/"
        },
        "id": "XnTOvpjXcJmh",
        "outputId": "e8c0aae3-759f-42dc-9219-962aa71eaf2d"
      },
      "execution_count": 153,
      "outputs": [
        {
          "output_type": "stream",
          "name": "stdout",
          "text": [
            "[2022-12-01 16:08:58 +0000] [1860] [INFO] Starting gunicorn 20.1.0\n",
            "[2022-12-01 16:08:58 +0000] [1860] [INFO] Listening at: http://127.0.0.1:5000 (1860)\n",
            "[2022-12-01 16:08:58 +0000] [1860] [INFO] Using worker: sync\n",
            "[2022-12-01 16:08:58 +0000] [1862] [INFO] Booting worker with pid: 1862\n",
            "[2022-12-01 16:08:58 +0000] [1863] [INFO] Booting worker with pid: 1863\n",
            "[2022-12-01 16:08:58 +0000] [1864] [INFO] Booting worker with pid: 1864\n",
            "[2022-12-01 16:08:58 +0000] [1865] [INFO] Booting worker with pid: 1865\n",
            "[2022-12-01 16:11:48 +0000] [1860] [INFO] Handling signal: int\n",
            "\n",
            "Aborted!\n",
            "[2022-12-01 16:11:48 +0000] [1862] [INFO] Worker exiting (pid: 1862)\n",
            "[2022-12-01 16:11:48 +0000] [1863] [INFO] Worker exiting (pid: 1863)\n",
            "[2022-12-01 16:11:48 +0000] [1865] [INFO] Worker exiting (pid: 1865)\n",
            "[2022-12-01 16:11:48 +0000] [1864] [INFO] Worker exiting (pid: 1864)\n",
            "[2022-12-01 16:11:49 +0000] [1860] [INFO] Shutting down: Master\n"
          ]
        }
      ]
    }
  ]
}